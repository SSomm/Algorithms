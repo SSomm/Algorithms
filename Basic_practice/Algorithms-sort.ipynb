{
 "cells": [
  {
   "cell_type": "markdown",
   "metadata": {},
   "source": [
    "### 1. Basic level"
   ]
  },
  {
   "cell_type": "markdown",
   "metadata": {},
   "source": [
    "* 병합정렬(Merge-sort)"
   ]
  },
  {
   "cell_type": "code",
   "execution_count": 2,
   "metadata": {},
   "outputs": [
    {
     "name": "stdout",
     "output_type": "stream",
     "text": [
      "[1, 2, 3, 4, 5, 6, 7, 8, 9, 10]\n"
     ]
    }
   ],
   "source": [
    "def merge_sort(a):\n",
    "    n=len(a)\n",
    "    # 원소의 갯수가 1개 이하일 경우에는, 입력값 그대로 리턴한다.\n",
    "    if n<=1:\n",
    "        return a\n",
    "    \n",
    "    #나머지 경우\n",
    "    #중간 값을 잡는다. \n",
    "    mid=n//2\n",
    "    \n",
    "    #중간에서 앞의 부분 g1 - 재귀를 반복하면서 정렬까지\n",
    "    g1=merge_sort(a[:mid])\n",
    "    \n",
    "    #중간에서 뒤의 부분 g2 - 재귀를 반복하면서 정렬까지\n",
    "    g2=merge_sort(a[mid:])\n",
    "    \n",
    "    #결과 값 넣기\n",
    "    result=[]\n",
    "    \n",
    "    #둘다 값이 있는 동안 실행\n",
    "    while g1 and g2:\n",
    "        #두개의 리스트 중 작은 값이 있는 것을 결과 리스트에 담는다.\n",
    "        if g1[0] < g2[0]:\n",
    "            result.append(g1.pop(0))\n",
    "        else:\n",
    "            result.append(g2.pop(0))\n",
    "    \n",
    "    #g1만 있을 때\n",
    "    while g1:\n",
    "        #g1값 하나씩 pop-> result에\n",
    "        result.append(g1.pop(0))\n",
    "        \n",
    "    #g2만 있을 때\n",
    "    while g2:\n",
    "        #g2값 하나씩 pop-> result에\n",
    "        result.append(g2.pop(0))\n",
    "    return result\n",
    "\n",
    "d=[6,8,3,9,10,1,2,4,7,5]\n",
    "print(merge_sort(d))\n",
    "    "
   ]
  },
  {
   "cell_type": "code",
   "execution_count": 6,
   "metadata": {},
   "outputs": [
    {
     "data": {
      "text/plain": [
       "[1, 2, 3, 5, 8, 9, 10]"
      ]
     },
     "execution_count": 6,
     "metadata": {},
     "output_type": "execute_result"
    }
   ],
   "source": [
    "#Practice code of Merge-sort/basic version\n",
    "\n",
    "def merge_sort_modify(num_list):\n",
    "    if(len(num_list)<=1):\n",
    "        return num_list\n",
    "    else:\n",
    "        mid=len(num_list)//2\n",
    "        front=merge_sort_modify(num_list[:mid])\n",
    "        end=merge_sort_modify(num_list[mid:])\n",
    "        \n",
    "        i=0\n",
    "        result=[]\n",
    "        while front and end:\n",
    "            if(front[i]<end[i]):\n",
    "                result.append(front.pop(0))\n",
    "            else:\n",
    "                result.append(end.pop(0))\n",
    "        \n",
    "        while front:\n",
    "            result.append(front.pop(0))\n",
    "        while end:\n",
    "            result.append(end.pop(0))\n",
    "        return result\n",
    "    \n",
    "list_num=[5,2,3,8,1,9,10]\n",
    "merge_sort_modify(list_num)\n",
    "    "
   ]
  },
  {
   "cell_type": "code",
   "execution_count": 7,
   "metadata": {},
   "outputs": [
    {
     "data": {
      "text/plain": [
       "[1, 2, 2, 3, 4, 6, 8, 9]"
      ]
     },
     "execution_count": 7,
     "metadata": {},
     "output_type": "execute_result"
    }
   ],
   "source": [
    "#Practice code of Merge-sort/harder version\n",
    "\n",
    "def merge_sort_intermediate(nums):\n",
    "    \n",
    "    if (len(nums)<=1):\n",
    "        return nums\n",
    "    else:    \n",
    "        mid=len(nums)//2\n",
    "        f=nums[:mid]\n",
    "        b=nums[mid:]\n",
    "        \n",
    "        merge_sort_intermediate(f)\n",
    "        merge_sort_intermediate(b)\n",
    "        \n",
    "        i=0\n",
    "        j=0\n",
    "        k=0\n",
    "        \n",
    "        while i<len(f) and j<len(b):\n",
    "            if(f[i]<b[j]):\n",
    "                nums[k]=f[i]\n",
    "                i+=1\n",
    "                k+=1\n",
    "            else:\n",
    "                nums[k]=b[j]\n",
    "                j+=1\n",
    "                k+=1\n",
    "        while i<len(f):\n",
    "            nums[k]=f[i]\n",
    "            i+=1\n",
    "            k+=1\n",
    "        \n",
    "        while j<len(b):\n",
    "            nums[k]=b[j]\n",
    "            j+=1\n",
    "            k+=1\n",
    "            \n",
    "        \n",
    "        return nums\n",
    "    \n",
    "numbers=[4,2,6,3,9,8,2,1]\n",
    "merge_sort_intermediate(numbers)\n",
    "    \n"
   ]
  },
  {
   "cell_type": "markdown",
   "metadata": {},
   "source": [
    "\n",
    "* 퀵정렬 (Quick Sort)"
   ]
  },
  {
   "cell_type": "code",
   "execution_count": 8,
   "metadata": {},
   "outputs": [
    {
     "data": {
      "text/plain": [
       "[1, 3, 5, 11, 23, 23, 56, 65, 86, 98]"
      ]
     },
     "execution_count": 8,
     "metadata": {},
     "output_type": "execute_result"
    }
   ],
   "source": [
    "#code-review & learn\n",
    "\n",
    "def quick_sort(a):\n",
    "    #list 크기 먼저 계산\n",
    "    n=len(a)\n",
    "    \n",
    "    #break 조건 - length 가 1일때\n",
    "    if n<=1:\n",
    "        return a\n",
    "    \n",
    "    #pivot 값: 일반적으로 리스트의 맨 끝\n",
    "    pivot=a[-1]\n",
    "    # 배열 2개 생성 \n",
    "    grp1=[]\n",
    "    grp2=[]\n",
    "    \n",
    "    #피벗 제외 순차적으로 하나씩 테스트\n",
    "    \n",
    "    for i in range(0, n-1):\n",
    "        #피벗값보다 작으면 grp1에 넣기\n",
    "        if a[i] < pivot:\n",
    "            grp1.append(a[i])\n",
    "            \n",
    "        #피벗값보다 크면 grp2에 넣기\n",
    "        else:\n",
    "            grp2.append(a[i])\n",
    "    \n",
    "    #반복하기        \n",
    "    return quick_sort(grp1)+[pivot]+quick_sort(grp2)\n",
    "\n",
    "a=[11,23,65,1,3,5,86,23,56,98]\n",
    "\n",
    "quick_sort(a)"
   ]
  },
  {
   "cell_type": "code",
   "execution_count": 14,
   "metadata": {},
   "outputs": [],
   "source": [
    "# 연습용\n",
    "\n",
    "\n",
    "def quick_sort_sub(a, start, end):\n",
    "    if end-start <=0:\n",
    "        return a\n",
    "    \n",
    "    pivot=a[end]\n",
    "    i=start\n",
    "    \n",
    "    for j in range(start, end):\n",
    "        if a[i] <=pivot:\n",
    "            a[i], a[j]=a[j], a[i]\n",
    "            i+=1\n",
    "    a[i], a[end]=a[end], a[i]\n",
    "    \n",
    "    quick_sort_sub(a, start, i-1)\n",
    "    quick_sort_sub(a, i+1, end)\n",
    "    return a\n",
    "    \n",
    "def quick_sort(a):\n",
    "    return quick_sort_sub(a, 0, len(a)-1)\n",
    "\n",
    "    \n",
    "d=[8,23,55, 6, 2, 4, 52, 75, 4, 2, 9]\n",
    "\n",
    "quick_sort(d)\n",
    "\n",
    "    \n",
    "    "
   ]
  },
  {
   "cell_type": "markdown",
   "metadata": {},
   "source": []
  }
 ],
 "metadata": {
  "kernelspec": {
   "display_name": "Python 3",
   "language": "python",
   "name": "python3"
  },
  "language_info": {
   "codemirror_mode": {
    "name": "ipython",
    "version": 3
   },
   "file_extension": ".py",
   "mimetype": "text/x-python",
   "name": "python",
   "nbconvert_exporter": "python",
   "pygments_lexer": "ipython3",
   "version": "3.7.3"
  }
 },
 "nbformat": 4,
 "nbformat_minor": 2
}
