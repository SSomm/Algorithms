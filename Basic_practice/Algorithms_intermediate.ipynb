{
 "cells": [
  {
   "cell_type": "markdown",
   "metadata": {},
   "source": [
    "## Maze -using Graph"
   ]
  },
  {
   "cell_type": "code",
   "execution_count": 7,
   "metadata": {},
   "outputs": [
    {
     "data": {
      "text/plain": [
       "'aeimnjfghglp'"
      ]
     },
     "execution_count": 7,
     "metadata": {},
     "output_type": "execute_result"
    }
   ],
   "source": [
    "def wayout(maze, start, end):\n",
    "    q=[]\n",
    "    done=set()\n",
    "    \n",
    "    q.append(start)\n",
    "    done.add(start)\n",
    "    \n",
    "    while q:\n",
    "        p=q.pop(0)\n",
    "        v=p[-1]\n",
    "        if(v==end):\n",
    "            return p\n",
    "        for i in maze[v]:                \n",
    "            if(i not in done):\n",
    "                q.append(p+i)\n",
    "                done.add(i)\n",
    "    return '?'\n",
    "        \n",
    "            \n",
    "    \n",
    "\n",
    "\n",
    "maze={\n",
    "    'a':['e'],\n",
    "    'b':['c', 'f'],\n",
    "    'c':['b', 'd'],\n",
    "    'd':['c'],\n",
    "    'e':['a', 'i'],\n",
    "    'f':['b', 'g', 'j'],\n",
    "    'g':['f','h'],\n",
    "    'h':['g' 'l'],\n",
    "    'i':['e', 'm'],\n",
    "    'j':['f', 'k', 'n'],\n",
    "    'k':['j', 'o'],\n",
    "    'l':['h', 'p'],\n",
    "    'm':['i', 'n'],\n",
    "    'n':['m', 'j'],\n",
    "    'o':['k'],\n",
    "    'p':['l']  \n",
    "}\n",
    "\n",
    "wayout(maze, 'a', 'p')"
   ]
  },
  {
   "cell_type": "markdown",
   "metadata": {},
   "source": [
    "### 가짜동전 찾기 알고리즘"
   ]
  },
  {
   "cell_type": "code",
   "execution_count": 9,
   "metadata": {},
   "outputs": [
    {
     "name": "stdout",
     "output_type": "stream",
     "text": [
      "29\n"
     ]
    }
   ],
   "source": [
    "#주어진 동전 n개 중에 가짜 동전을 찾아내는 알고리즘\n",
    "#입력 : 전체 동전 위치의 시작과 끝(0, n-1)\n",
    "#출력 : 가짜 동전의 위치 번호\n",
    "\n",
    "#무게 재기 함수\n",
    "#a에서 b까지에 놓인 동전과\n",
    "#c에서 d까지에 높인 동전의 무게를 비교\n",
    "\n",
    "#a에서 b까지에 가짜 동전이 있으면(가벼우면) : -1\n",
    "#c에서 d까지에 가짜 동전이 있으면(가벼우면) : 1\n",
    "#가짜 동전이 없으면(양쪽 무게가 같으면) : 0\n",
    "\n",
    "def weigh(a,b,c,d):\n",
    "    fake=29\n",
    "    if a<=fake and fake<=b:\n",
    "        return -1\n",
    "    if c<=fake and fake<=d:\n",
    "        return 1\n",
    "    return 0\n",
    "\n",
    "def find_fakecoin(left, right):\n",
    "    for i in range(left+1, right+1):\n",
    "        result = weigh(left, left, i,i)\n",
    "        if result==-1:\n",
    "            return left\n",
    "        elif result==1:\n",
    "            return i\n",
    "    return -1\n",
    "\n",
    "n=100\n",
    "print(find_fakecoin(0,n-1))\n",
    "        \n",
    "    "
   ]
  },
  {
   "cell_type": "code",
   "execution_count": 11,
   "metadata": {},
   "outputs": [
    {
     "name": "stdout",
     "output_type": "stream",
     "text": [
      "29\n"
     ]
    }
   ],
   "source": [
    "#comparison with the upper code\n",
    "\n",
    "def weigh(a,b,c,d):\n",
    "    fake=29\n",
    "    if a<=fake and fake<=b:\n",
    "        return -1\n",
    "    if c<=fake and fake<=d:\n",
    "        return 1\n",
    "    return 0\n",
    "\n",
    "def find_fakecoin(left, right):\n",
    "    if left==right:\n",
    "        return left\n",
    "    half=(right-left+1) //2\n",
    "    g1_left=left\n",
    "    g1_right=left+half-1\n",
    "    g2_left=left+half\n",
    "    g2_right=g2_left+half-1\n",
    "    \n",
    "    result=weigh(g1_left, g1_right, g2_left, g2_right)\n",
    "    if result==-1:\n",
    "        return find_fakecoin(g1_left, g1_right)\n",
    "    elif result==1:\n",
    "        return find_fakecoin(g2_left, g2_right)\n",
    "    else:\n",
    "        return right\n",
    "    \n",
    "n=100\n",
    "print(find_fakecoin(0, n-1))\n",
    "    "
   ]
  },
  {
   "cell_type": "code",
   "execution_count": null,
   "metadata": {},
   "outputs": [],
   "source": []
  }
 ],
 "metadata": {
  "kernelspec": {
   "display_name": "Python 3",
   "language": "python",
   "name": "python3"
  },
  "language_info": {
   "codemirror_mode": {
    "name": "ipython",
    "version": 3
   },
   "file_extension": ".py",
   "mimetype": "text/x-python",
   "name": "python",
   "nbconvert_exporter": "python",
   "pygments_lexer": "ipython3",
   "version": "3.7.3"
  }
 },
 "nbformat": 4,
 "nbformat_minor": 2
}
