{
 "cells": [
  {
   "cell_type": "markdown",
   "metadata": {},
   "source": [
    "## 자료구조 실습 - Queue, Stack"
   ]
  },
  {
   "cell_type": "code",
   "execution_count": 12,
   "metadata": {},
   "outputs": [],
   "source": [
    "from collections import deque\n",
    "def repeat(s):\n",
    "    nospace=s.replace(\" \", '')\n",
    "    nospace=list(nospace)\n",
    "    dq=deque()\n",
    "    st=[]\n",
    "#     print(nospace)\n",
    "    for i in nospace:\n",
    "        if(i.isalpha()):\n",
    "            st.append(i.lower())\n",
    "            dq.append(i.lower())\n",
    "    mark=False\n",
    "    for i in range(len(st)):\n",
    "        if(st.pop()==dq.popleft()):\n",
    "            mark=True\n",
    "        else:\n",
    "            mark=False\n",
    "    return mark\n"
   ]
  },
  {
   "cell_type": "code",
   "execution_count": 15,
   "metadata": {},
   "outputs": [
    {
     "data": {
      "text/plain": [
       "True"
      ]
     },
     "execution_count": 15,
     "metadata": {},
     "output_type": "execute_result"
    }
   ],
   "source": [
    "repeat(\"Madam, I am Adam\")"
   ]
  },
  {
   "cell_type": "code",
   "execution_count": 16,
   "metadata": {},
   "outputs": [
    {
     "data": {
      "text/plain": [
       "True"
      ]
     },
     "execution_count": 16,
     "metadata": {},
     "output_type": "execute_result"
    }
   ],
   "source": [
    "repeat(\"wow\")"
   ]
  },
  {
   "cell_type": "code",
   "execution_count": 17,
   "metadata": {},
   "outputs": [
    {
     "data": {
      "text/plain": [
       "True"
      ]
     },
     "execution_count": 17,
     "metadata": {},
     "output_type": "execute_result"
    }
   ],
   "source": [
    "repeat(\"hahahah\")"
   ]
  },
  {
   "cell_type": "markdown",
   "metadata": {},
   "source": [
    "## 동명이인 찾기 - Dict(Hashtable), Tuple"
   ]
  },
  {
   "cell_type": "code",
   "execution_count": 32,
   "metadata": {},
   "outputs": [],
   "source": [
    "def find_same_name(a):\n",
    "    name_dict={}\n",
    "    for name in a:\n",
    "        if name in name_dict:\n",
    "            name_dict[name]+=1\n",
    "        else:\n",
    "            name_dict[name]=1\n",
    "    result=[]\n",
    "    print(name_dict)\n",
    "    for name in a:\n",
    "        if (name_dict[name]>1):\n",
    "            result.append(name)\n",
    "    return set(result)\n",
    "        "
   ]
  },
  {
   "cell_type": "code",
   "execution_count": 33,
   "metadata": {},
   "outputs": [
    {
     "name": "stdout",
     "output_type": "stream",
     "text": [
      "{'mike': 2, 'john': 1, 'tom': 1, 'jennifer': 1}\n"
     ]
    },
    {
     "data": {
      "text/plain": [
       "{'mike'}"
      ]
     },
     "execution_count": 33,
     "metadata": {},
     "output_type": "execute_result"
    }
   ],
   "source": [
    "find_same_name(['mike', 'mike', 'john', 'tom', 'jennifer'])"
   ]
  },
  {
   "cell_type": "code",
   "execution_count": 39,
   "metadata": {},
   "outputs": [
    {
     "data": {
      "text/plain": [
       "'?'"
      ]
     },
     "execution_count": 39,
     "metadata": {},
     "output_type": "execute_result"
    }
   ],
   "source": [
    "def find_std_name(std_dict, num):\n",
    "    \n",
    "    if (num in std_dict):\n",
    "        return std_dict[num]\n",
    "    else:\n",
    "        return str('?')\n",
    "    \n",
    "std_dict={\n",
    "    1:\"Tom\",\n",
    "    2:\"Brian\",\n",
    "    3:\"Tobby\",\n",
    "    4:\"Jenny\",\n",
    "    5:\"Jane\",\n",
    "    6:\"Mori\"\n",
    "}\n",
    "\n",
    "find_std_name(std_dict, 3)\n",
    "\n",
    "find_std_name(std_dict, 7)"
   ]
  },
  {
   "cell_type": "markdown",
   "metadata": {},
   "source": [
    "## 자료구조 실습 - Graph(모든 친구 찾기)"
   ]
  },
  {
   "cell_type": "code",
   "execution_count": 47,
   "metadata": {},
   "outputs": [
    {
     "name": "stdout",
     "output_type": "stream",
     "text": [
      "Spring\n",
      "Winter\n",
      "Summer\n",
      "Fall\n"
     ]
    },
    {
     "data": {
      "text/plain": [
       "{'Fall', 'Spring', 'Summer', 'Winter'}"
      ]
     },
     "execution_count": 47,
     "metadata": {},
     "output_type": "execute_result"
    }
   ],
   "source": [
    "def find_fri_all(fri_graph, target):\n",
    "    qu=[]\n",
    "    fri_all=set()\n",
    "    qu.append(target)\n",
    "    fri_all.add(target)\n",
    "    \n",
    "    while qu:\n",
    "        p=qu.pop(0)\n",
    "        print(p)\n",
    "        for i in fri_graph[p]:\n",
    "            if i not in fri_all:\n",
    "                qu.append(i)\n",
    "                fri_all.add(i)           \n",
    "        \n",
    "    return fri_all\n",
    "    \n",
    "    \n",
    "    \n",
    "fri_graph={\n",
    "    \"Spring\":[\"Winter\", \"Summer\"],\n",
    "    \"Summer\":[\"Spring\", \"Fall\"],\n",
    "    \"Fall\":[\"Summer\", \"Winter\"],\n",
    "    \"Winter\":[\"Spring\", \"Fall\"]\n",
    "}\n",
    "\n",
    "find_fri_all(fri_graph, \"Spring\")\n"
   ]
  },
  {
   "cell_type": "markdown",
   "metadata": {},
   "source": [
    "## 친밀도 검색하기"
   ]
  },
  {
   "cell_type": "code",
   "execution_count": 3,
   "metadata": {},
   "outputs": [
    {
     "name": "stdout",
     "output_type": "stream",
     "text": [
      "Fall 0\n",
      "Summer 1\n",
      "Winter 1\n",
      "Spring 2\n"
     ]
    }
   ],
   "source": [
    "def familarity(friendsmap, name):\n",
    "    q=[]\n",
    "    answer=set()\n",
    "    \n",
    "    q.append((name, 0))\n",
    "    answer.add(name)\n",
    "    \n",
    "    while q:\n",
    "        p,distance=q.pop(0)\n",
    "        print(p,distance)\n",
    "        for fri in friendsmap[p]:\n",
    "            if(fri not in answer):\n",
    "                q.append((fri, distance+1))\n",
    "                answer.add((fri))\n",
    "        \n",
    "fri_graph={\n",
    "    \"Spring\":[\"Winter\", \"Summer\"],\n",
    "    \"Summer\":[\"Spring\", \"Fall\"],\n",
    "    \"Fall\":[\"Summer\", \"Winter\"],\n",
    "    \"Winter\":[\"Spring\", \"Fall\"]\n",
    "}\n",
    "          \n",
    "familarity(fri_graph, \"Fall\")               \n",
    "    "
   ]
  },
  {
   "cell_type": "markdown",
   "metadata": {},
   "source": [
    "## 연습문제(그래프)"
   ]
  },
  {
   "cell_type": "code",
   "execution_count": 6,
   "metadata": {},
   "outputs": [
    {
     "data": {
      "text/plain": [
       "[1, 4, 5]"
      ]
     },
     "execution_count": 6,
     "metadata": {},
     "output_type": "execute_result"
    }
   ],
   "source": [
    "def nums_dict_srh(nums_dic, key):\n",
    "    return(nums_dic[key])\n",
    "\n",
    "nums_dic={\n",
    "    1:[2,3],\n",
    "    2:[1,4,5],\n",
    "    3:[1],\n",
    "    4:[2],\n",
    "    5:[2]\n",
    "}\n",
    "\n",
    "nums_dict_srh(nums_dic, 2)"
   ]
  }
 ],
 "metadata": {
  "kernelspec": {
   "display_name": "Python 3",
   "language": "python",
   "name": "python3"
  },
  "language_info": {
   "codemirror_mode": {
    "name": "ipython",
    "version": 3
   },
   "file_extension": ".py",
   "mimetype": "text/x-python",
   "name": "python",
   "nbconvert_exporter": "python",
   "pygments_lexer": "ipython3",
   "version": "3.7.3"
  }
 },
 "nbformat": 4,
 "nbformat_minor": 2
}
